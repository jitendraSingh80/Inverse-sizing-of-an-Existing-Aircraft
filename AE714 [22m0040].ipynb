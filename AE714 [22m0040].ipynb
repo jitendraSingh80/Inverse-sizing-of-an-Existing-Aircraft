{
 "cells": [
  {
   "cell_type": "code",
   "execution_count": 3,
   "metadata": {
    "executionInfo": {
     "elapsed": 696,
     "status": "ok",
     "timestamp": 1679669202429,
     "user": {
      "displayName": "Aditya Sharma K P",
      "userId": "01427261385690849115"
     },
     "user_tz": -330
    },
    "id": "-GQh-XLEg_di"
   },
   "outputs": [],
   "source": [
    "import numpy as np\n",
    "import matplotlib.pyplot as plt"
   ]
  },
  {
   "cell_type": "code",
   "execution_count": 4,
   "metadata": {
    "executionInfo": {
     "elapsed": 23,
     "status": "ok",
     "timestamp": 1679669202430,
     "user": {
      "displayName": "Aditya Sharma K P",
      "userId": "01427261385690849115"
     },
     "user_tz": -330
    },
    "id": "X-LvzImFcbiY"
   },
   "outputs": [],
   "source": [
    "#payload weight \n",
    "pax = 243\n",
    "Wpax = 231*81\n",
    "Wcab1 = 12*20\n",
    "Wcab2 = 231*10\n",
    "Wc2 = 231*23\n",
    "Wc1 = 12*2*32\n",
    "Wpl = Wpax + Wcab1 + Wcab2 + Wc1 + Wc2\n",
    "ncrew= 8         #no. of crew(including pilot)\n",
    "Wcrew = ncrew*(79.4)      # in kg, 79.4 kg-avg weight, 13.6 kg- luggage weight\n",
    "R1= 6500*0.621371       # in miles\n",
    "Wto = 110e03       #in kg (Wto guess)\n",
    "tol=1e05 "
   ]
  },
  {
   "cell_type": "code",
   "execution_count": 5,
   "metadata": {
    "colab": {
     "base_uri": "https://localhost:8080/"
    },
    "executionInfo": {
     "elapsed": 22,
     "status": "ok",
     "timestamp": 1679669202430,
     "user": {
      "displayName": "Aditya Sharma K P",
      "userId": "01427261385690849115"
     },
     "user_tz": -330
    },
    "id": "3Tspz6SB63kB",
    "outputId": "a5732cad-463a-46e9-e9ab-9c26393cbac7"
   },
   "outputs": [
    {
     "data": {
      "text/plain": [
       "27342"
      ]
     },
     "execution_count": 5,
     "metadata": {},
     "output_type": "execute_result"
    }
   ],
   "source": [
    "Wpl"
   ]
  },
  {
   "cell_type": "code",
   "execution_count": 6,
   "metadata": {
    "executionInfo": {
     "elapsed": 20,
     "status": "ok",
     "timestamp": 1679669202431,
     "user": {
      "displayName": "Aditya Sharma K P",
      "userId": "01427261385690849115"
     },
     "user_tz": -330
    },
    "id": "C9zcZrbbFJGy"
   },
   "outputs": [],
   "source": [
    "while tol > 1e-5 : \n",
    "  W1 = 0.99*Wto      #Engine start and warm-up\n",
    "  W2 = 0.99*W1        #Taxi: \n",
    "  W3 = 0.995*W2         #Takeoff \n",
    "  W4 = 0.980*W3         #Climb to cruise alt and acc to cruise \n",
    "  W4 = W4*2.2046226218488         #conversion to lbf\n",
    "  cj = 0.7\n",
    "  Vc = 470 #knots\n",
    "  L_D = 17\n",
    "  W5 = W4/(np.exp(R1*cj/(Vc*L_D)))        #in lbf\n",
    "  W5 = W5/2.2046226218488             #conversion to kg\n",
    "  cj_ltr = 0.5  #specific fuel consumption for the class of Transport jet (in lb/lbf-hr)\n",
    "  L_D_ltr = 17 # L/D for the class of Transport jet\n",
    "  E = 20/60    # Endurance for loiter in hr\n",
    "  W6 = W5/(np.exp(E*cj_ltr/(L_D_ltr)))\n",
    "  W7 = 0.990*W6            # Descent\n",
    "  W8 = 0.992*W7           #Landing, taxi and shutdown\n",
    "  Wf_used = Wto - W8\n",
    "  Wf_Res = Wf_used * 0.1   # reverse fuel- 45 mins\n",
    "  Wf = Wf_used + Wf_Res\n",
    "  #\n",
    "  WOEtent = Wto - Wf - Wpl \n",
    "  Wtfo = 0.005 * Wto\n",
    "  WEtent = WOEtent - Wtfo - Wcrew\n",
    "  #\n",
    "  Ks =0.8\n",
    "  We = Ks * 0.842 * Wto ** 0.947\n",
    "  tol= abs(We-WEtent)\n",
    "  Woe = We + Wtfo + Wcrew\n",
    "  Wto = Woe + Wf + Wpl"
   ]
  },
  {
   "cell_type": "code",
   "execution_count": 7,
   "metadata": {
    "colab": {
     "base_uri": "https://localhost:8080/"
    },
    "executionInfo": {
     "elapsed": 5,
     "status": "ok",
     "timestamp": 1679669209478,
     "user": {
      "displayName": "Aditya Sharma K P",
      "userId": "01427261385690849115"
     },
     "user_tz": -330
    },
    "id": "JQSkSwkfFYTD",
    "outputId": "fbdd5442-540c-4207-e037-45c724f7d937"
   },
   "outputs": [
    {
     "name": "stdout",
     "output_type": "stream",
     "text": [
      "39053.08582673267 73898.87621785823\n"
     ]
    }
   ],
   "source": [
    "print(Wf_used, W7)"
   ]
  },
  {
   "cell_type": "code",
   "execution_count": 8,
   "metadata": {
    "colab": {
     "base_uri": "https://localhost:8080/"
    },
    "executionInfo": {
     "elapsed": 407,
     "status": "ok",
     "timestamp": 1679669280880,
     "user": {
      "displayName": "Aditya Sharma K P",
      "userId": "01427261385690849115"
     },
     "user_tz": -330
    },
    "id": "W4qzJinuFyG5",
    "outputId": "79ef3076-c1d6-4392-d207-e2161d384d35"
   },
   "outputs": [
    {
     "data": {
      "text/plain": [
       "40863.37277886634"
      ]
     },
     "execution_count": 8,
     "metadata": {},
     "output_type": "execute_result"
    }
   ],
   "source": [
    "We"
   ]
  },
  {
   "cell_type": "code",
   "execution_count": 9,
   "metadata": {
    "executionInfo": {
     "elapsed": 21,
     "status": "aborted",
     "timestamp": 1679669202436,
     "user": {
      "displayName": "Aditya Sharma K P",
      "userId": "01427261385690849115"
     },
     "user_tz": -330
    },
    "id": "85pryLVRtM-O"
   },
   "outputs": [
    {
     "name": "stdout",
     "output_type": "stream",
     "text": [
      "[2423.3469  2827.23805 3231.1292  3635.02035 4038.9115  4442.80265\n",
      " 4846.6938  5250.58495]\n"
     ]
    }
   ],
   "source": [
    "R  = np.array([0.6*R1 ,0.7*R1, 0.8*R1, 0.9*R1, R1, 1.1*R1, 1.2*R1, 1.3*R1])\n",
    "print(R)"
   ]
  },
  {
   "cell_type": "code",
   "execution_count": 10,
   "metadata": {
    "executionInfo": {
     "elapsed": 22,
     "status": "aborted",
     "timestamp": 1679669202437,
     "user": {
      "displayName": "Aditya Sharma K P",
      "userId": "01427261385690849115"
     },
     "user_tz": -330
    },
    "id": "jKfgtIKitDDK"
   },
   "outputs": [
    {
     "name": "stdout",
     "output_type": "stream",
     "text": [
      "[79613.77162149212, 86284.55485078247, 93840.49444967706, 102457.71081683021, 112360.77104619532, 123840.10224864275, 137277.29727512348, 153182.71729929798]\n"
     ]
    }
   ],
   "source": [
    "MTOW= []\n",
    "\n",
    "for r in R:\n",
    "  tol=1e05 \n",
    "  while tol > 1e-5 : \n",
    "    W1 = 0.99*Wto      #Engine start and warm-up\n",
    "    W2 = 0.99*W1        #Taxi: \n",
    "    W3 = 0.995*W2         #Takeoff \n",
    "    W4 = 0.980*W3         #Climb to cruise alt and acc to cruise \n",
    "    W4 = W4*2.2046226218488         #conversion to lbf\n",
    "    cj = 0.7\n",
    "    Vc = 470 #knots\n",
    "    L_D = 17\n",
    "    W5 = W4/(np.exp(r*cj/(Vc*L_D)))        #in lbf\n",
    "    W5 = W5/2.2046226218488             #conversion to kg\n",
    "    cj_ltr = 0.5  #specific fuel consumption for the class of Transport jet (in lb/lbf-hr)\n",
    "    L_D_ltr = 17 # L/D for the class of Transport jet\n",
    "    E = 20/60    # Endurance for loiter in hr\n",
    "    W6 = W5/(np.exp(E*cj_ltr/(L_D_ltr)))\n",
    "    W7 = 0.990*W6            # Descent\n",
    "    W8 = 0.992*W7           #Landing, taxi and shutdown\n",
    "    Wf_used = Wto - W8\n",
    "    Wf_Res = Wf_used * 0.1   # reverse fuel- 45 mins\n",
    "    Wf = Wf_used + Wf_Res\n",
    "    #\n",
    "    WOEtent = Wto - Wf - Wpl \n",
    "    Wtfo = 0.005 * Wto\n",
    "    WEtent = WOEtent - Wtfo - Wcrew\n",
    "    #\n",
    "    Ks =0.8\n",
    "    We = Ks * 0.842 * Wto ** 0.947\n",
    "    tol= abs(We-WEtent)\n",
    "    Woe = We + Wtfo + Wcrew\n",
    "    Wto = Woe + Wf + Wpl\n",
    "  MTOW.append(Wto)\n",
    "print(MTOW)"
   ]
  },
  {
   "cell_type": "code",
   "execution_count": 11,
   "metadata": {
    "executionInfo": {
     "elapsed": 22,
     "status": "aborted",
     "timestamp": 1679669202437,
     "user": {
      "displayName": "Aditya Sharma K P",
      "userId": "01427261385690849115"
     },
     "user_tz": -330
    },
    "id": "MjPanX7LvPPA"
   },
   "outputs": [
    {
     "name": "stdout",
     "output_type": "stream",
     "text": [
      "[3900. 4550. 5200. 5850. 6500. 7150. 7800. 8450.]\n"
     ]
    }
   ],
   "source": [
    "R = R/0.621371  \n",
    "print(R)"
   ]
  },
  {
   "cell_type": "code",
   "execution_count": 12,
   "metadata": {
    "executionInfo": {
     "elapsed": 23,
     "status": "aborted",
     "timestamp": 1679669202438,
     "user": {
      "displayName": "Aditya Sharma K P",
      "userId": "01427261385690849115"
     },
     "user_tz": -330
    },
    "id": "nHdb274julQw"
   },
   "outputs": [
    {
     "data": {
      "text/plain": [
       "Text(0, 0.5, ' TOGW (kg)')"
      ]
     },
     "execution_count": 12,
     "metadata": {},
     "output_type": "execute_result"
    },
    {
     "data": {
      "image/png": "[encoded data removed]",
      "text/plain": [
       "<Figure size 640x480 with 1 Axes>"
      ]
     },
     "metadata": {},
     "output_type": "display_data"
    }
   ],
   "source": [
    "plt.grid()\n",
    "plt.plot(R,MTOW,'r')\n",
    "plt.xlabel('Range (km)')\n",
    "plt.ylabel(' TOGW (kg)')"
   ]
  },
  {
   "cell_type": "code",
   "execution_count": 13,
   "metadata": {
    "executionInfo": {
     "elapsed": 22,
     "status": "aborted",
     "timestamp": 1679669202438,
     "user": {
      "displayName": "Aditya Sharma K P",
      "userId": "01427261385690849115"
     },
     "user_tz": -330
    },
    "id": "F2tQF7aI3Fi0"
   },
   "outputs": [
    {
     "data": {
      "text/plain": [
       "123840.10224864275"
      ]
     },
     "execution_count": 13,
     "metadata": {},
     "output_type": "execute_result"
    }
   ],
   "source": [
    "MTOW[5]"
   ]
  },
  {
   "cell_type": "code",
   "execution_count": 14,
   "metadata": {
    "executionInfo": {
     "elapsed": 23,
     "status": "aborted",
     "timestamp": 1679669202439,
     "user": {
      "displayName": "Aditya Sharma K P",
      "userId": "01427261385690849115"
     },
     "user_tz": -330
    },
    "id": "WqpjMGD03Fzq"
   },
   "outputs": [
    {
     "name": "stdout",
     "output_type": "stream",
     "text": [
      "63306.99029721647 90600.53124401691\n"
     ]
    }
   ],
   "source": [
    "print(Wf_used, W7)"
   ]
  },
  {
   "cell_type": "code",
   "execution_count": 15,
   "metadata": {
    "executionInfo": {
     "elapsed": 23,
     "status": "aborted",
     "timestamp": 1679669202440,
     "user": {
      "displayName": "Aditya Sharma K P",
      "userId": "01427261385690849115"
     },
     "user_tz": -330
    },
    "id": "ehRjKvNFV8aY"
   },
   "outputs": [
    {
     "name": "stdout",
     "output_type": "stream",
     "text": [
      "Max Range of the aircraft is:  7285665.026\n"
     ]
    },
    {
     "data": {
      "text/plain": [
       "(54801.91438590345, 84884.01010519863)"
      ]
     },
     "execution_count": 15,
     "metadata": {},
     "output_type": "execute_result"
    },
    {
     "data": {
      "image/png": "[encoded data removed]",
      "text/plain": [
       "<Figure size 640x480 with 1 Axes>"
      ]
     },
     "metadata": {},
     "output_type": "display_data"
    }
   ],
   "source": [
    "import numpy as np\n",
    "import matplotlib.pyplot as plt\n",
    "\n",
    "# WTO\n",
    "WA = We+Wpl\n",
    "WB = We+1*Wf+Wpl\n",
    "W_TO = We+1*Wf+Wpl\n",
    "Wfle = 0.25*Wf\n",
    "W_ple = Wpl-Wfle\n",
    "W_E = We+W_ple\n",
    "W_plf = (2/3)*(W_ple)\n",
    "W_F = We+W_plf\n",
    "W_G = W_TO-((1/3)*W_ple)\n",
    "W_plh = (1/3)*W_ple\n",
    "W_H = We+W_plh\n",
    "W_I  = W_TO-W_plf\n",
    "W_D = W_TO - W_ple\n",
    "e = 0.9244\n",
    "k = 0.0344 #0.0607\n",
    "C_D0 = 0.033 #0.0376\n",
    "ct = 0.5/(3600)\n",
    "rho  = 0.38\n",
    "S = 122\n",
    "\n",
    "W1 = np.array([WA, WA, W_E, W_F, W_H, We])\n",
    "W0 = np.array([WA ,WB ,W_TO ,W_G ,W_I ,W_D])\n",
    "\n",
    "\n",
    "  \n",
    "L_D = (3/4)*(1/(3*C_D0**3 *k))**(1/4)\n",
    "R = (2/ct)*(2/(rho*S))**(1/2) *(L_D) * (W0**0.5 - W1**0.5)\n",
    "\n",
    "print('Max Range of the aircraft is: ' ,round(max(R),3))\n",
    "\n",
    "plt.grid()\n",
    "plt.plot(R,W1,'r')\n",
    "plt.xlabel('Range (m)')\n",
    "plt.ylabel('Payload (Kg)')\n",
    "plt.xlim(0,1.05*max(R))\n",
    "plt.ylim(We,1.05*We+Wpl)"
   ]
  },
  {
   "cell_type": "code",
   "execution_count": 16,
   "metadata": {
    "executionInfo": {
     "elapsed": 24,
     "status": "aborted",
     "timestamp": 1679669202441,
     "user": {
      "displayName": "Aditya Sharma K P",
      "userId": "01427261385690849115"
     },
     "user_tz": -330
    },
    "id": "OxJJUmicSppI"
   },
   "outputs": [
    {
     "name": "stdout",
     "output_type": "stream",
     "text": [
      "0.00019432553956834532\n"
     ]
    }
   ],
   "source": [
    "cf = 0.7*9.8*0.4536/(4.448*3600)\n",
    "print(cf)"
   ]
  },
  {
   "cell_type": "code",
   "execution_count": 17,
   "metadata": {
    "executionInfo": {
     "elapsed": 23,
     "status": "aborted",
     "timestamp": 1679669202441,
     "user": {
      "displayName": "Aditya Sharma K P",
      "userId": "01427261385690849115"
     },
     "user_tz": -330
    },
    "id": "BSVtTgBgtYsg"
   },
   "outputs": [],
   "source": [
    "while tol > 1e-5 : \n",
    "  W1 = 0.99*Wto      #Engine start and warm-up\n",
    "  W2 = 0.99*W1        #Taxi: \n",
    "  W3 = 0.995*W2         #Takeoff \n",
    "  W4 = 0.980*W3         #Climb to cruise alt and acc to cruise \n",
    "  W4 = W4*2.2046226218488         #conversion to lbf\n",
    "  cj = 0.7\n",
    "  Vc = 470 #knots\n",
    "  L_D = 15\n",
    "  W5 = W4/(np.exp(R*cj/(Vc*L_D)))        #in lbf\n",
    "  W5 = W5/2.2046226218488             #conversion to kg\n",
    "  W6 = 0.990*W5            # Descent\n",
    "  W7 = 0.992*W6           #Landing, taxi and shutdown\n",
    "  Wf_used = Wto - W7\n",
    "  Wf_Res = Wf_used * 0.1   # reverse fuel- 45 mins\n",
    "  Wf = Wf_used + Wf_Res\n",
    "  #\n",
    "  WOEtent = Wto - Wf - Wpl \n",
    "  Wtfo = 0.005 * Wto\n",
    "  WEtent = WOEtent - Wtfo - Wcrew\n",
    "  #\n",
    "  Ks =0.8\n",
    "  We = Ks * 0.842 * Wto ** 0.947\n",
    "  tol= abs(We-WEtent)\n",
    "  Woe = We + Wtfo + Wcrew\n",
    "  Wto = Woe + Wf + Wpl"
   ]
  },
  {
   "cell_type": "code",
   "execution_count": null,
   "metadata": {},
   "outputs": [],
   "source": []
  },
  {
   "cell_type": "code",
   "execution_count": null,
   "metadata": {},
   "outputs": [],
   "source": []
  },
  {
   "cell_type": "code",
   "execution_count": null,
   "metadata": {},
   "outputs": [],
   "source": []
  }
 ],
 "metadata": {
  "colab": {
   "provenance": []
  },
  "kernelspec": {
   "display_name": "Python 3 (ipykernel)",
   "language": "python",
   "name": "python3"
  },
  "language_info": {
   "codemirror_mode": {
    "name": "ipython",
    "version": 3
   },
   "file_extension": ".py",
   "mimetype": "text/x-python",
   "name": "python",
   "nbconvert_exporter": "python",
   "pygments_lexer": "ipython3",
   "version": "3.9.13"
  }
 },
 "nbformat": 4,
 "nbformat_minor": 1
}
